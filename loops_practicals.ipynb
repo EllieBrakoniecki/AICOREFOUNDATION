{
 "cells": [
  {
   "cell_type": "code",
   "execution_count": 1,
   "source": [
    "#Counting even and odd numbers using a for loop\n",
    "def count_even_and_odd(i = 1, j = 100):\n",
    "    even, odd = 0, 0\n",
    "    for n in range(i, j + 1):\n",
    "        if n % 2 == 0:\n",
    "            even += 1\n",
    "        else:\n",
    "            odd +=1\n",
    "    print (f\"There are {even} even numbers between {i} and {j}\")\n",
    "    print (f\"There are {odd} odd numbers between {i} and {j}\")\n",
    "\n",
    "count_even_and_odd()\n",
    "count_even_and_odd(33, 77)"
   ],
   "outputs": [
    {
     "output_type": "stream",
     "name": "stdout",
     "text": [
      "There are 50 even numbers between 1 and 100\n",
      "There are 50 odd numbers between 1 and 100\n",
      "There are 22 even numbers between 33 and 77\n",
      "There are 23 odd numbers between 33 and 77\n"
     ]
    }
   ],
   "metadata": {}
  },
  {
   "cell_type": "code",
   "execution_count": 14,
   "source": [
    "def is_palindrome1(string):\n",
    "    n = len(string) // 2\n",
    "    k = 1\n",
    "    for i in range(n):\n",
    "        if string[i] != string[i - k]:\n",
    "            print(f\"{string} is not a palindrome\")\n",
    "            return False \n",
    "        else:\n",
    "            k+=2\n",
    "    print(f\"{string} is a palindrome\")\n",
    "    return True\n",
    "\n",
    "\n",
    "print(is_palindrome1(\"racecar\"))\n",
    "print(is_palindrome1(\"1122334455675544332211\"))\n",
    "print(is_palindrome1(\"elephant\"))\n",
    "print(is_palindrome1(\"ABBA\"))"
   ],
   "outputs": [
    {
     "output_type": "stream",
     "name": "stdout",
     "text": [
      "racecar is a palindrome\n",
      "True\n",
      "1122334455675544332211 is not a palindrome\n",
      "False\n",
      "elephant is not a palindrome\n",
      "False\n",
      "ABBA is a palindrome\n",
      "True\n",
      "123123321321 is a palindrome\n",
      "True\n"
     ]
    }
   ],
   "metadata": {}
  },
  {
   "cell_type": "code",
   "execution_count": 3,
   "source": [
    "def is_palindrome2(string): # more efficient version of the function\n",
    "    reverse_string = string[::-1]\n",
    "    if string == reverse_string:\n",
    "        print(f\"{string} is a palindrome\")\n",
    "        return True\n",
    "    else:\n",
    "        print(f\"{string} is not a palindrome\")\n",
    "        return False\n",
    "\n",
    "is_palindrome2(\"racecar\")\n",
    "is_palindrome2(\"elephant\")"
   ],
   "outputs": [
    {
     "output_type": "stream",
     "name": "stdout",
     "text": [
      "racecar is a palindrome\n",
      "elephant is not a palindrome\n"
     ]
    },
    {
     "output_type": "execute_result",
     "data": {
      "text/plain": [
       "False"
      ]
     },
     "metadata": {},
     "execution_count": 3
    }
   ],
   "metadata": {}
  },
  {
   "cell_type": "code",
   "execution_count": 4,
   "source": [
    "def even_and_odd_comprehension(mylist):\n",
    "    return([x ** 2 if x % 2 == 0 else (x + 1) ** 2 for x in mylist])\n",
    "\n",
    "my_list = [34,52,71,39,22,73,92]\n",
    "even_and_odd_comprehension(my_list)"
   ],
   "outputs": [
    {
     "output_type": "execute_result",
     "data": {
      "text/plain": [
       "[1156, 2704, 5184, 1600, 484, 5476, 8464]"
      ]
     },
     "metadata": {},
     "execution_count": 4
    }
   ],
   "metadata": {}
  },
  {
   "cell_type": "code",
   "execution_count": 5,
   "source": [
    "# Budget Calculator\n",
    "order_list = [(\"tom\", 0.87, 4), (\"sug\", 1.09, 3), (\"ws\", 0.29, 4), (\"juc\", 1.89, 1), (\"fo\", 1.29, 2)]\n",
    "names = {\"tom\":\"Tomatoes\", \"sug\":\"Sugar\", \"ws\":\"Washing Sponges\", \"juc\":\"Juice\", \"fo\":\"Foil\"}\n",
    "\n",
    "order_value = [round(i[1] * i[2], 2) for i in order_list]\n",
    "quantity_list = [i[2] for i in order_list]\n",
    "name_list = [i[0] for i in order_list]\n",
    "\n",
    "budget = 10.00\n",
    "running_total = 0\n",
    "#formatted_running_total = \"{:.2f}\".format(running_total)\n",
    "receipt = []\n",
    "print(f\"Current total: £{running_total}\") # format here? \n",
    "for i in range(len(order_list)):\n",
    "    running_total += order_value[i]\n",
    "    key = name_list[i]\n",
    "    full_name = names[key]\n",
    "    print(f\"Adding {quantity_list[i]} {full_name}\")\n",
    "    if order_value[i] > budget:\n",
    "        print(\"budget exceeded\")\n",
    "        break\n",
    "    receipt.append(running_total) # format here? \n",
    "    print(f\"Current total: £{running_total}\") # and here? \n",
    "    budget -= order_value[i]\n",
    "\n",
    "print(receipt)\n",
    "\n"
   ],
   "outputs": [
    {
     "output_type": "stream",
     "name": "stdout",
     "text": [
      "Current total: £0\n",
      "Adding 4 Tomatoes\n",
      "Current total: £3.48\n",
      "Adding 3 Sugar\n",
      "Current total: £6.75\n",
      "Adding 4 Washing Sponges\n",
      "Current total: £7.91\n",
      "Adding 1 Juice\n",
      "Current total: £9.8\n",
      "Adding 2 Foil\n",
      "budget exceeded\n",
      "[3.48, 6.75, 7.91, 9.8]\n"
     ]
    }
   ],
   "metadata": {}
  },
  {
   "cell_type": "markdown",
   "source": [
    "Dictionaries & list comprehensions\n",
    "1. Create a dictionary with 3 keys\n",
    "- name: a string of your name\n",
    "- skills: a list of strings\n",
    "2. Make another one of these and put both of them in a list\n",
    "3. Now index that list of dictionaries to find the last letter of the first skill of the last dictionary\n",
    "4. Create a list comprehension which maps that list to a list of the length of names\n",
    "5. Add that list together to get the total number of characters in all of the names"
   ],
   "metadata": {}
  },
  {
   "cell_type": "code",
   "execution_count": 6,
   "source": [
    "# Dictionary and list comprehensions\n",
    "ellie_skills = {\"Ellie\" : [\"C++\", \"Data\"]}\n",
    "fred_skills = {\"Fred\" : [\"OOP\", \"SQL\"], 'hi': 1}\n",
    "mylist = [ellie_skills, fred_skills]\n",
    "\n",
    "index1 = mylist[1]['Fred'][0][2]\n",
    "print(index1)\n",
    "\n",
    "name_list = []\n",
    "for dict_item in mylist:\n",
    "    for key in dict_item:\n",
    "        name_list.append(len(key))\n",
    "print(name_list)\n",
    "sum(name_list)\n",
    "\n",
    "name_list = []\n",
    "sums = [len(key) for dict_item in mylist for key in dict_item]\n",
    "print(sums)\n",
    "\n",
    "kfnvdjk\n",
    "\n",
    "\n",
    "\n",
    "name_list = [\n",
    "    [len(key) for key in dict_item]\n",
    "    for dict_item in mylist\n",
    "] #nested list comprehension\n",
    "print(name_list)\n",
    "print(sum(name_list))\n",
    "\n",
    "\n",
    "# for n in name_list: \n",
    "#     print (*n)\n",
    "\n",
    "# p = [print(*n) for n in name_list]\n",
    "# s = [sum(n) for n in name_list]\n",
    "# print(s)\n",
    "\n",
    "\n",
    "\n"
   ],
   "outputs": [
    {
     "output_type": "stream",
     "name": "stdout",
     "text": [
      "P\n",
      "[5, 4, 2]\n",
      "[5, 4, 2]\n"
     ]
    },
    {
     "output_type": "error",
     "ename": "NameError",
     "evalue": "name 'kfnvdjk' is not defined",
     "traceback": [
      "\u001b[0;31m---------------------------------------------------------------------------\u001b[0m",
      "\u001b[0;31mNameError\u001b[0m                                 Traceback (most recent call last)",
      "\u001b[0;32m/var/folders/1k/nj5s4vvs6b1758sjrdg0hd_40000gp/T/ipykernel_38246/846989611.py\u001b[0m in \u001b[0;36m<module>\u001b[0;34m\u001b[0m\n\u001b[1;32m     18\u001b[0m \u001b[0mprint\u001b[0m\u001b[0;34m(\u001b[0m\u001b[0msums\u001b[0m\u001b[0;34m)\u001b[0m\u001b[0;34m\u001b[0m\u001b[0;34m\u001b[0m\u001b[0m\n\u001b[1;32m     19\u001b[0m \u001b[0;34m\u001b[0m\u001b[0m\n\u001b[0;32m---> 20\u001b[0;31m \u001b[0mkfnvdjk\u001b[0m\u001b[0;34m\u001b[0m\u001b[0;34m\u001b[0m\u001b[0m\n\u001b[0m\u001b[1;32m     21\u001b[0m \u001b[0;34m\u001b[0m\u001b[0m\n\u001b[1;32m     22\u001b[0m \u001b[0;34m\u001b[0m\u001b[0m\n",
      "\u001b[0;31mNameError\u001b[0m: name 'kfnvdjk' is not defined"
     ]
    }
   ],
   "metadata": {}
  }
 ],
 "metadata": {
  "orig_nbformat": 4,
  "language_info": {
   "name": "python",
   "version": "3.9.5",
   "mimetype": "text/x-python",
   "codemirror_mode": {
    "name": "ipython",
    "version": 3
   },
   "pygments_lexer": "ipython3",
   "nbconvert_exporter": "python",
   "file_extension": ".py"
  },
  "kernelspec": {
   "name": "python3",
   "display_name": "Python 3.9.5 64-bit ('base': conda)"
  },
  "interpreter": {
   "hash": "a71d2412ae34490210b93e6016e866bfdc76bae0306f5a9106694ea876077cd7"
  }
 },
 "nbformat": 4,
 "nbformat_minor": 2
}