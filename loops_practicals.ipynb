{
 "cells": [
  {
   "cell_type": "code",
   "execution_count": 9,
   "source": [
    "#Counting even and odd numbers using a for loop\n",
    "def count_even_and_odd(i = 1, j = 100):\n",
    "    even, odd = 0, 0\n",
    "    for n in range(i, j + 1):\n",
    "        if n % 2 == 0:\n",
    "            even += 1\n",
    "        else:\n",
    "            odd +=1\n",
    "    print (f\"There are {even} even numbers between {i} and {j}\")\n",
    "    print (f\"There are {odd} odd numbers between {i} and {j}\")\n",
    "\n",
    "count_even_and_odd()\n",
    "count_even_and_odd(33, 77)"
   ],
   "outputs": [
    {
     "output_type": "stream",
     "name": "stdout",
     "text": [
      "There are 50 even numbers between 1 and 100\n",
      "There are 50 odd numbers between 1 and 100\n",
      "There are 22 even numbers between 33 and 77\n",
      "There are 23 odd numbers between 33 and 77\n"
     ]
    }
   ],
   "metadata": {}
  },
  {
   "cell_type": "code",
   "execution_count": 55,
   "source": [
    "def is_palindrome1(string):\n",
    "    n = len(string) // 2\n",
    "    k = 1\n",
    "    for i in range(n):\n",
    "        if string[i] != string[i - k]:\n",
    "            print(f\"{string} is not a palindrome\")\n",
    "            return False \n",
    "        else:\n",
    "            k+=2\n",
    "            print(f\"{string} is a palindrome\")\n",
    "            return True\n",
    "\n",
    "\n",
    "print(is_palindrome1(\"racecar\"))\n",
    "print(is_palindrome1(\"elephant\"))\n",
    "print(is_palindrome1(\"ABBA\"))"
   ],
   "outputs": [
    {
     "output_type": "stream",
     "name": "stdout",
     "text": [
      "racecar is a palindrome\n",
      "True\n",
      "elephant is not a palindrome\n",
      "False\n",
      "ABBA is a palindrome\n",
      "True\n"
     ]
    }
   ],
   "metadata": {}
  },
  {
   "cell_type": "code",
   "execution_count": 27,
   "source": [
    "def is_palindrome2(string): # more efficient version of the function\n",
    "    reverse_string = string[::-1]\n",
    "    if string == reverse_string:\n",
    "        print(f\"{string} is a palindrome\")\n",
    "        return True\n",
    "    else:\n",
    "        print(f\"{string} is not a palindrome\")\n",
    "        return False\n",
    "\n",
    "is_palindrome2(\"racecar\")\n",
    "is_palindrome2(\"elephant\")"
   ],
   "outputs": [
    {
     "output_type": "stream",
     "name": "stdout",
     "text": [
      "racecar is a palindrome\n",
      "elephant is not a palindrome\n"
     ]
    },
    {
     "output_type": "execute_result",
     "data": {
      "text/plain": [
       "False"
      ]
     },
     "metadata": {},
     "execution_count": 27
    }
   ],
   "metadata": {}
  },
  {
   "cell_type": "code",
   "execution_count": 70,
   "source": [
    "def even_and_odd_comprehension(mylist):\n",
    "    return([x ** 2 if x % 2 == 0 else (x + 1) ** 2 for x in mylist])\n",
    "\n",
    "my_list = [34,52,71,39,22,73,92]\n",
    "even_and_odd_comprehension(my_list)"
   ],
   "outputs": [
    {
     "output_type": "execute_result",
     "data": {
      "text/plain": [
       "[1156, 2704, 5184, 1600, 484, 5476, 8464]"
      ]
     },
     "metadata": {},
     "execution_count": 70
    }
   ],
   "metadata": {}
  }
 ],
 "metadata": {
  "orig_nbformat": 4,
  "language_info": {
   "name": "python",
   "version": "3.9.5",
   "mimetype": "text/x-python",
   "codemirror_mode": {
    "name": "ipython",
    "version": 3
   },
   "pygments_lexer": "ipython3",
   "nbconvert_exporter": "python",
   "file_extension": ".py"
  },
  "kernelspec": {
   "name": "python3",
   "display_name": "Python 3.9.5 64-bit ('base': conda)"
  },
  "interpreter": {
   "hash": "a71d2412ae34490210b93e6016e866bfdc76bae0306f5a9106694ea876077cd7"
  }
 },
 "nbformat": 4,
 "nbformat_minor": 2
}