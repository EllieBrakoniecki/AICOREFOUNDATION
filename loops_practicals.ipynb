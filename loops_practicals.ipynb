{
 "cells": [
  {
   "cell_type": "code",
   "execution_count": 9,
   "source": [
    "#Counting even and odd numbers using a for loop\n",
    "def count_even_and_odd(i = 1, j = 100):\n",
    "    even, odd = 0, 0\n",
    "    for n in range(i, j + 1):\n",
    "        if n % 2 == 0:\n",
    "            even += 1\n",
    "        else:\n",
    "            odd +=1\n",
    "    print (f\"There are {even} even numbers between {i} and {j}\")\n",
    "    print (f\"There are {odd} odd numbers between {i} and {j}\")\n",
    "\n",
    "count_even_and_odd()\n",
    "count_even_and_odd(33, 77)"
   ],
   "outputs": [
    {
     "output_type": "stream",
     "name": "stdout",
     "text": [
      "There are 50 even numbers between 1 and 100\n",
      "There are 50 odd numbers between 1 and 100\n",
      "There are 22 even numbers between 33 and 77\n",
      "There are 23 odd numbers between 33 and 77\n"
     ]
    }
   ],
   "metadata": {}
  },
  {
   "cell_type": "code",
   "execution_count": 55,
   "source": [
    "def is_palindrome1(string):\n",
    "    n = len(string) // 2\n",
    "    k = 1\n",
    "    for i in range(n):\n",
    "        if string[i] != string[i - k]:\n",
    "            print(f\"{string} is not a palindrome\")\n",
    "            return False \n",
    "        else:\n",
    "            k+=2\n",
    "            print(f\"{string} is a palindrome\")\n",
    "            return True\n",
    "\n",
    "\n",
    "print(is_palindrome1(\"racecar\"))\n",
    "print(is_palindrome1(\"elephant\"))\n",
    "print(is_palindrome1(\"ABBA\"))"
   ],
   "outputs": [
    {
     "output_type": "stream",
     "name": "stdout",
     "text": [
      "racecar is a palindrome\n",
      "True\n",
      "elephant is not a palindrome\n",
      "False\n",
      "ABBA is a palindrome\n",
      "True\n"
     ]
    }
   ],
   "metadata": {}
  },
  {
   "cell_type": "code",
   "execution_count": 27,
   "source": [
    "def is_palindrome2(string): # more efficient version of the function\n",
    "    reverse_string = string[::-1]\n",
    "    if string == reverse_string:\n",
    "        print(f\"{string} is a palindrome\")\n",
    "        return True\n",
    "    else:\n",
    "        print(f\"{string} is not a palindrome\")\n",
    "        return False\n",
    "\n",
    "is_palindrome2(\"racecar\")\n",
    "is_palindrome2(\"elephant\")"
   ],
   "outputs": [
    {
     "output_type": "stream",
     "name": "stdout",
     "text": [
      "racecar is a palindrome\n",
      "elephant is not a palindrome\n"
     ]
    },
    {
     "output_type": "execute_result",
     "data": {
      "text/plain": [
       "False"
      ]
     },
     "metadata": {},
     "execution_count": 27
    }
   ],
   "metadata": {}
  },
  {
   "cell_type": "code",
   "execution_count": 70,
   "source": [
    "def even_and_odd_comprehension(mylist):\n",
    "    return([x ** 2 if x % 2 == 0 else (x + 1) ** 2 for x in mylist])\n",
    "\n",
    "my_list = [34,52,71,39,22,73,92]\n",
    "even_and_odd_comprehension(my_list)"
   ],
   "outputs": [
    {
     "output_type": "execute_result",
     "data": {
      "text/plain": [
       "[1156, 2704, 5184, 1600, 484, 5476, 8464]"
      ]
     },
     "metadata": {},
     "execution_count": 70
    }
   ],
   "metadata": {}
  },
  {
   "cell_type": "markdown",
   "source": [
    "Budget Calculator\n",
    "Using the names dictionary and order_list shown below, write a program that fits the following conditions:\n",
    "- It should produce an order by adding items to receipt from order_list sequentially.\n",
    "- It should Print \"Current Total: £x\" with each iteration\n",
    "- If the order value exceeds the budget value, it should stop adding items and print \"Budget Exceeded!\".\n",
    "- If not, each time it adds items, it should:\n",
    "- Print \"Adding *full name of item* (quantity)\".\n",
    "- Subtract the price from budget.\n",
    "- Add the price to running_total.\n",
    "- It should print out running_total, order and budget formatted into print statements (done for you).\n",
    "\n",
    "order_list = [(\"tom\", 0.87, 4),\n",
    "\n",
    "(\"sug\", 1.09, 3),\n",
    "\n",
    "(\"ws\", 0.29, 4),\n",
    "\n",
    "(\"juc\", 1.89, 1),\n",
    "\n",
    "(\"fo\", 1.29, 2)]\n",
    "\n",
    "names = {\"tom\":\"Tomatoes\",\n",
    "\n",
    "\"sug\":\"Sugar\",\n",
    "\n",
    "\"ws\":\"Washing Sponges\",\n",
    "\n",
    "\"juc\":\"Juice\",\n",
    "\n",
    "\"fo\":\"Foil\"}\n",
    "\n",
    "budget = 10.00\n",
    "\n",
    "running_total = 0\n",
    "\n",
    "receipt = []"
   ],
   "metadata": {}
  },
  {
   "cell_type": "code",
   "execution_count": 218,
   "source": [
    "order_list = [(\"tom\", 0.87, 4), (\"sug\", 1.09, 3), (\"ws\", 0.29, 4), (\"juc\", 1.89, 1), (\"fo\", 1.29, 2)]\n",
    "names = {\"tom\":\"Tomatoes\", \"sug\":\"Sugar\", \"ws\":\"Washing Sponges\", \"juc\":\"Juice\", \"fo\":\"Foil\"}\n",
    "\n",
    "order_value = [round(i[1] * i[2], 2) for i in order_list]\n",
    "quantity_list = [i[2] for i in order_list]\n",
    "name_list = [i[0] for i in order_list]\n",
    "\n",
    "budget = 10.00\n",
    "running_total = 0\n",
    "formatted_running_total = \"{:.2f}\".format(running_total)\n",
    "receipt = []\n",
    "print(f\"Current total: £{running_total}\") # format here? \n",
    "for i in range(len(order_list)):\n",
    "    running_total += order_value[i]\n",
    "    key = name_list[i]\n",
    "    full_name = names[key]\n",
    "    print(f\"Adding {quantity_list[i]} {full_name}\")\n",
    "    if order_value[i] > budget:\n",
    "        print(\"budget exceeded\")\n",
    "        break\n",
    "    receipt.append(running_total) # format here? \n",
    "    print(f\"Current total: £{running_total}\") # and here? \n",
    "    budget -= order_value[i]\n",
    "\n",
    "print(receipt)\n",
    "\n"
   ],
   "outputs": [
    {
     "output_type": "stream",
     "name": "stdout",
     "text": [
      "Current total: £0\n",
      "Adding 4 Tomatoes\n",
      "Current total: £3.48\n",
      "Adding 3 Sugar\n",
      "Current total: £6.75\n",
      "Adding 4 Washing Sponges\n",
      "Current total: £7.91\n",
      "Adding 1 Juice\n",
      "Current total: £9.8\n",
      "Adding 2 Foil\n",
      "budget exceeded\n",
      "[3.48, 6.75, 7.91, 9.8]\n"
     ]
    }
   ],
   "metadata": {}
  }
 ],
 "metadata": {
  "orig_nbformat": 4,
  "language_info": {
   "name": "python",
   "version": "3.9.5",
   "mimetype": "text/x-python",
   "codemirror_mode": {
    "name": "ipython",
    "version": 3
   },
   "pygments_lexer": "ipython3",
   "nbconvert_exporter": "python",
   "file_extension": ".py"
  },
  "kernelspec": {
   "name": "python3",
   "display_name": "Python 3.9.5 64-bit ('base': conda)"
  },
  "interpreter": {
   "hash": "a71d2412ae34490210b93e6016e866bfdc76bae0306f5a9106694ea876077cd7"
  }
 },
 "nbformat": 4,
 "nbformat_minor": 2
}