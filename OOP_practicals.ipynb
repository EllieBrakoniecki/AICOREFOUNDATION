{
 "cells": [
  {
   "cell_type": "code",
   "execution_count": 11,
   "source": [
    "#Create a cylinder class \n",
    "import math\n",
    "\n",
    "class Cylinder:\n",
    "    def __init__(self, height, radius=1):\n",
    "        self.height = height\n",
    "        self.radius = radius\n",
    "        self.surface_area = 0\n",
    "        self.volume = 0\n",
    "\n",
    "    def get_surface_area(self):\n",
    "        self.surface_area = 2 * math.pi * self.radius * (self.height + self.radius)\n",
    "        return round(self.surface_area,2)\n",
    "\n",
    "    def get_volume(self):\n",
    "        self.volume = math.pi * self.height * self.radius ** 2 \n",
    "        return round(self.volume,2 )\n",
    "\n",
    "\n",
    "cylinder1 = Cylinder(20,4)\n",
    "print(cylinder1.get_surface_area())\n",
    "print(cylinder1.get_volume())"
   ],
   "outputs": [
    {
     "output_type": "stream",
     "name": "stdout",
     "text": [
      "603.19\n",
      "1005.31\n"
     ]
    }
   ],
   "metadata": {}
  },
  {
   "cell_type": "code",
   "execution_count": 56,
   "source": [
    "#Create a Car Class\n",
    "class Car:\n",
    "    def __init__(self, model, year=2021):\n",
    "        self.model = model\n",
    "        self.year = year\n",
    "        self.miles_driven = 0\n",
    "\n",
    "    def drive(self):\n",
    "        self.miles_driven +=1\n",
    "        print(\"vroom\")\n",
    "\n",
    "    def info(self):\n",
    "        print(f\"Number of miles driven: {self.miles_driven}\")\n",
    "        print(f\"Model name: {self.model}\")\n",
    "        print(f\"Year: {self.year}\")\n",
    "       \n",
    "mycar = Car(\"Tesla\", 2021)\n",
    "mycar.drive()\n",
    "mycar.info()\n",
    "mycar.drive()\n",
    "mycar.info()"
   ],
   "outputs": [
    {
     "output_type": "stream",
     "name": "stdout",
     "text": [
      "vroom\n",
      "Number of miles driven: 1\n",
      "Model name: Tesla\n",
      "Year: 2021\n",
      "vroom\n",
      "Number of miles driven: 2\n",
      "Model name: Tesla\n",
      "Year: 2021\n"
     ]
    }
   ],
   "metadata": {}
  },
  {
   "cell_type": "code",
   "execution_count": 58,
   "source": [
    "mycar = Car(\"Tesla\", 2021)\n",
    "mycar.drive()\n",
    "mycar.info()\n",
    "mycar.drive()\n",
    "mycar.info()"
   ],
   "outputs": [
    {
     "output_type": "stream",
     "name": "stdout",
     "text": [
      "vroom\n",
      "Number of miles driven: 1\n",
      "Model name: Tesla\n",
      "Year: 2021\n",
      "vroom\n",
      "Number of miles driven: 2\n",
      "Model name: Tesla\n",
      "Year: 2021\n"
     ]
    }
   ],
   "metadata": {}
  },
  {
   "cell_type": "markdown",
   "source": [
    "Create a Class which uses some Magic Methods\n",
    "create a class called Vector\n",
    "define its initialiser which takes in a list of numbers\n",
    "create an instance of the vector\n",
    "use the `__repr__` method to define what is printed when we print the object\n",
    "create another vector instance\n",
    "define how you add two vectors together\n",
    "define how you index an item in the vector\n",
    "(bonus) define how you measure whether it is greater than another vector (use Pythagoras theorem)\n",
    "use the function you defined in the question above"
   ],
   "metadata": {}
  },
  {
   "cell_type": "code",
   "execution_count": 11,
   "source": [
    "#Create a Class which uses some Magic Methods\n",
    "class Vector:\n",
    "    def __init__(self, vector_list=[]):\n",
    "        self.vector_list = vector_list\n",
    "    \n",
    "    def __repr__(self):\n",
    "        return str(self.vector_list)\n",
    "\n",
    "    def return_vector_list(self):\n",
    "        return self.vector_list\n",
    "\n",
    "    def __add__(self, other):\n",
    "        sum_list = []\n",
    "        for item1, item2 in zip(self.return_vector_list(),other.return_vector_list()):\n",
    "            sum_list.append(item1 + item2)\n",
    "            return sum_list "
   ],
   "outputs": [],
   "metadata": {}
  },
  {
   "cell_type": "code",
   "execution_count": 18,
   "source": [
    "l = [2,3,4]\n",
    "vector1 = Vector(l)\n",
    "print(vector1)\n",
    "print(vector1.return_vector_list())\n",
    "\n",
    "k = [20] * 3\n",
    "vector2 = Vector(k)\n",
    "print(vector2)\n",
    "\n",
    "list3 = vector1 + vector2\n",
    "print(vector3)"
   ],
   "outputs": [
    {
     "output_type": "stream",
     "name": "stdout",
     "text": [
      "[2, 3, 4]\n",
      "[2, 3, 4]\n",
      "[20, 20, 20]\n",
      "[11]\n"
     ]
    }
   ],
   "metadata": {}
  }
 ],
 "metadata": {
  "orig_nbformat": 4,
  "language_info": {
   "name": "python",
   "version": "3.9.5",
   "mimetype": "text/x-python",
   "codemirror_mode": {
    "name": "ipython",
    "version": 3
   },
   "pygments_lexer": "ipython3",
   "nbconvert_exporter": "python",
   "file_extension": ".py"
  },
  "kernelspec": {
   "name": "python3",
   "display_name": "Python 3.9.5 64-bit ('base': conda)"
  },
  "interpreter": {
   "hash": "a71d2412ae34490210b93e6016e866bfdc76bae0306f5a9106694ea876077cd7"
  }
 },
 "nbformat": 4,
 "nbformat_minor": 2
}