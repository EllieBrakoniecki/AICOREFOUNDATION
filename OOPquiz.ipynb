{
 "cells": [
  {
   "cell_type": "code",
   "execution_count": 4,
   "source": [
    "import random \n",
    "\n",
    "class RandomListLoader:\n",
    "    def __init__(self,number_list=[1,2,3,4,5,6]):\n",
    "        self.number_list = number_list\n",
    "        random.shuffle(self.number_list)\n",
    "\n",
    "    def show_list(self):\n",
    "        return self.number_list\n",
    "\n",
    "    def reshuffle_list(self):       \n",
    "        random.shuffle(self.number_list)\n",
    "        \n",
    "    def get_element(self,n=0):\n",
    "        return self.number_list[n]\n",
    "\n",
    "dice_1 = RandomListLoader()\n",
    "dice_2 = RandomListLoader()\n",
    "\n",
    "def run_trials_on_two_dice(dice1, dice2,n): # simulate rolling two dice n times\n",
    "    trials_dice_1 = []\n",
    "    trials_dice_2 = []\n",
    "    for i in range(n):\n",
    "        dice_1.reshuffle_list()\n",
    "        dice_2.reshuffle_list()\n",
    "        trials_dice_1.append(dice_1.get_element())\n",
    "        trials_dice_2.append(dice_2.get_element())\n",
    "    return [trials_dice_1, trials_dice_2]\n",
    "\n",
    "def sum_lists_elementwise(list1,list2):\n",
    "    sum_list = []\n",
    "    for item1, item2 in zip(list1,list2):\n",
    "        sum_list.append(item1 + item2)\n",
    "    return sum_list  \n",
    "\n",
    "def mean_of_a_list(listinput):\n",
    "    sum_elements_of_list = 0\n",
    "    for i in range(0, len(listinput)):\n",
    "        sum_elements_of_list += listinput[i]\n",
    "    mean_value = sum_elements_of_list / len(listinput)\n",
    "    return mean_value\n",
    "\n",
    "nested_list = run_trials_on_two_dice(dice_1, dice_2, 100000)\n",
    "sum_lists_elementwise(nested_list[0], nested_list[1])\n",
    "mean_of_a_list(sum_lists_elementwise(nested_list[0], nested_list[1]))\n",
    "\n",
    "\n"
   ],
   "outputs": [
    {
     "output_type": "execute_result",
     "data": {
      "text/plain": [
       "7.01334"
      ]
     },
     "metadata": {},
     "execution_count": 4
    }
   ],
   "metadata": {}
  }
 ],
 "metadata": {
  "orig_nbformat": 4,
  "language_info": {
   "name": "python",
   "version": "3.9.5",
   "mimetype": "text/x-python",
   "codemirror_mode": {
    "name": "ipython",
    "version": 3
   },
   "pygments_lexer": "ipython3",
   "nbconvert_exporter": "python",
   "file_extension": ".py"
  },
  "kernelspec": {
   "name": "python3",
   "display_name": "Python 3.9.5 64-bit ('base': conda)"
  },
  "interpreter": {
   "hash": "a71d2412ae34490210b93e6016e866bfdc76bae0306f5a9106694ea876077cd7"
  }
 },
 "nbformat": 4,
 "nbformat_minor": 2
}