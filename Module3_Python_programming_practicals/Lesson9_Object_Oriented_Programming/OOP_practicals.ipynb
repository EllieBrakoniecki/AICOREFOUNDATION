{
 "cells": [
  {
   "cell_type": "code",
   "execution_count": 11,
   "source": [
    "#Create a cylinder class \n",
    "import math\n",
    "\n",
    "class Cylinder:\n",
    "    def __init__(self, height, radius=1):\n",
    "        self.height = height\n",
    "        self.radius = radius\n",
    "        self.surface_area = 0\n",
    "        self.volume = 0\n",
    "\n",
    "    def get_surface_area(self):\n",
    "        self.surface_area = 2 * math.pi * self.radius * (self.height + self.radius)\n",
    "        return round(self.surface_area,2)\n",
    "\n",
    "    def get_volume(self):\n",
    "        self.volume = math.pi * self.height * self.radius ** 2 \n",
    "        return round(self.volume,2 )\n",
    "    \n",
    "    \n",
    "\n",
    "\n",
    "cylinder1 = Cylinder(20,4)\n",
    "print(cylinder1.get_surface_area())\n",
    "print(cylinder1.get_volume())"
   ],
   "outputs": [
    {
     "output_type": "stream",
     "name": "stdout",
     "text": [
      "603.19\n",
      "1005.31\n"
     ]
    }
   ],
   "metadata": {}
  },
  {
   "cell_type": "code",
   "execution_count": 3,
   "source": [
    "#Create a Car Class\n",
    "class Car:\n",
    "    def __init__(self, model, year=2021):\n",
    "        self.model = model\n",
    "        self.year = year\n",
    "        self.miles_driven = 0\n",
    "\n",
    "    def drive(self):\n",
    "        self.miles_driven +=1\n",
    "        print(\"vroom\")\n",
    "\n",
    "    def info(self):\n",
    "        print(f\"Number of miles driven: {self.miles_driven}\")\n",
    "        print(f\"Model name: {self.model}\")\n",
    "        print(f\"Year: {self.year}\")\n",
    "       "
   ],
   "outputs": [],
   "metadata": {}
  },
  {
   "cell_type": "code",
   "execution_count": 4,
   "source": [
    "mycar = Car(\"Tesla\", 2020)\n",
    "mycar.drive()\n",
    "mycar.info()\n",
    "mycar.drive()\n",
    "mycar.info()"
   ],
   "outputs": [
    {
     "output_type": "stream",
     "name": "stdout",
     "text": [
      "vroom\n",
      "Number of miles driven: 1\n",
      "Model name: Tesla\n",
      "Year: 2020\n",
      "vroom\n",
      "Number of miles driven: 2\n",
      "Model name: Tesla\n",
      "Year: 2020\n"
     ]
    }
   ],
   "metadata": {}
  },
  {
   "cell_type": "code",
   "execution_count": 72,
   "source": [
    "#Create a Class which uses some Magic Methods\n",
    "import math\n",
    "\n",
    "class Vector:\n",
    "    def __init__(self, vector_list=[]):\n",
    "        self.vector_list = vector_list\n",
    "        self.result = []\n",
    "        self.vector_length = len(self.vector_list)\n",
    "    \n",
    "    def __repr__(self):\n",
    "        return str(self.vector_list)\n",
    "\n",
    "    def __add__(self, other):\n",
    "        self.result = [self.vector_list[i] + other.vector_list[i] for i in range(self.vector_length)]\n",
    "        return self.result\n",
    "\n",
    "    def __getitem__(self, index):\n",
    "        return self.vector_list[index]\n",
    "\n",
    "    def _magnitude(self): # private function\n",
    "        temp = 0\n",
    "        for i in range(self.vector_length):\n",
    "            temp += self.vector_list[i] ** 2\n",
    "        return math.sqrt(temp)\n",
    "\n",
    "    def is_greater_than(self,other): #check if this instance of the vector is greater than the vector passed in as argument\n",
    "        if self._magnitude() > other._magnitude():\n",
    "            return True\n",
    "        else: \n",
    "            return False\n",
    "            \n",
    "\n",
    "    \n"
   ],
   "outputs": [],
   "metadata": {}
  },
  {
   "cell_type": "code",
   "execution_count": 73,
   "source": [
    "l = [2,3,4]\n",
    "vector1 = Vector(l)\n",
    "print(vector1)\n",
    "\n",
    "k = [20] * 3\n",
    "vector2 = Vector(k)\n",
    "print(vector2)\n",
    "\n",
    "j = [100,100,0,0]\n",
    "vector3 = Vector(j)\n",
    "\n",
    "list1 = vector1 + vector2\n",
    "list2 = vector2 + vector3\n",
    "\n",
    "print(list1)\n",
    "print(list2)\n",
    "\n",
    "vector3[1]\n",
    "\n",
    "print(vector3._magnitude())\n",
    "vector3.is_greater_than(vector2)\n",
    "vector2.is_greater_than(vector3)\n"
   ],
   "outputs": [
    {
     "output_type": "stream",
     "name": "stdout",
     "text": [
      "[2, 3, 4]\n",
      "[20, 20, 20]\n",
      "[22, 23, 24]\n",
      "[120, 120, 20]\n",
      "141.4213562373095\n"
     ]
    },
    {
     "output_type": "execute_result",
     "data": {
      "text/plain": [
       "False"
      ]
     },
     "metadata": {},
     "execution_count": 73
    }
   ],
   "metadata": {}
  }
 ],
 "metadata": {
  "orig_nbformat": 4,
  "language_info": {
   "name": "python",
   "version": "3.9.5",
   "mimetype": "text/x-python",
   "codemirror_mode": {
    "name": "ipython",
    "version": 3
   },
   "pygments_lexer": "ipython3",
   "nbconvert_exporter": "python",
   "file_extension": ".py"
  },
  "kernelspec": {
   "name": "python3",
   "display_name": "Python 3.9.5 64-bit ('base': conda)"
  },
  "interpreter": {
   "hash": "a71d2412ae34490210b93e6016e866bfdc76bae0306f5a9106694ea876077cd7"
  }
 },
 "nbformat": 4,
 "nbformat_minor": 2
}