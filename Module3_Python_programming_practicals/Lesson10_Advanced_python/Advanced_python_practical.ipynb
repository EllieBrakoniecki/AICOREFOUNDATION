{
 "cells": [
  {
   "cell_type": "markdown",
   "source": [
    "for each challenge switch person\n",
    "use a list comprehension to capitalise every element in the list `['Hello', 'world']`\n",
    "use a list comprehension to filter out every multiple of 5 from a range of numbers up to 100\n",
    "use a dictionary comprehension to create a map between every integer up to 15 and it's value squared\n",
    "now, use a dictionary comprehension to create a dictionary that does the inverse! (hint: iterate over squares.items(), where squares is the name of the dict you made in the above challenge)\n",
    "create a list of dictionaries, each with a key called name, then use a list comprehension to map that list to the names themselves by indexing the dicts\n",
    "use the os module to create a nested list comprehension to list every file in the my_lib directory"
   ],
   "metadata": {}
  },
  {
   "cell_type": "code",
   "execution_count": 157,
   "source": [
    "# Comprehensions \n",
    "\n",
    "# 1) use a list comprehension to capitalise every element in the list `['Hello', 'world']`\n",
    "# method 1\n",
    "#%%\n",
    "mylist = [\"Hello\", \"World\"]\n",
    "x =[]\n",
    "for item in mylist:\n",
    "    x.append(item.upper())\n",
    "\n",
    "# method 2 - comprehension of the method 1\n",
    "mylist = [\"Hello\", \"World\"]\n",
    "x = [item.upper() for item in mylist]\n",
    "\n",
    "# method 3\n",
    "mylist = [\"Hello\", \"World\"]\n",
    "x = []\n",
    "for i in range(len(mylist)):\n",
    "    x.append(mylist[i].upper())\n",
    "\n",
    "# method 4 - comprehension of method 3\n",
    "mylist = [\"Hello\", \"World\"]\n",
    "x = [mylist[i].upper() for i in range(len(mylist))]\n",
    "\n",
    "print(x)\n",
    "\n",
    "# 2) use a list comprehension to filter out every multiple of 5 from a range of numbers up to 100\n",
    "#method 1 \n",
    "mylist = range(1,101)\n",
    "x = []\n",
    "for item in mylist:\n",
    "    if item % 5 != 0:\n",
    "        x.append(item)\n",
    "\n",
    "#method 2 \n",
    "y = [item for item in mylist if item % 5 != 0]\n",
    "\n",
    "print(x)\n"
   ],
   "outputs": [
    {
     "output_type": "stream",
     "name": "stdout",
     "text": [
      "['HELLO', 'WORLD']\n",
      "[1, 2, 3, 4, 6, 7, 8, 9, 11, 12, 13, 14, 16, 17, 18, 19, 21, 22, 23, 24, 26, 27, 28, 29, 31, 32, 33, 34, 36, 37, 38, 39, 41, 42, 43, 44, 46, 47, 48, 49, 51, 52, 53, 54, 56, 57, 58, 59, 61, 62, 63, 64, 66, 67, 68, 69, 71, 72, 73, 74, 76, 77, 78, 79, 81, 82, 83, 84, 86, 87, 88, 89, 91, 92, 93, 94, 96, 97, 98, 99]\n"
     ]
    }
   ],
   "metadata": {}
  },
  {
   "cell_type": "code",
   "execution_count": 12,
   "source": [
    "\n",
    "# 3) use a dictionary comprehension to create a map between every integer up to 15 and it's value squared\n",
    "\n",
    "mylist = range(1,16)\n",
    "\n",
    "#method 1\n",
    "squares = {}\n",
    "for i in range(len(mylist)):\n",
    "    squares[mylist[i]] = mylist[i] ** 2\n",
    "\n",
    "#method 2 using a list comprehension\n",
    "squares = {mylist[i] : mylist[i] ** 2 for i in range(len(mylist))}\n",
    "\n",
    "print(squares)\n",
    "# Now, use a dictionary comprehension to create a dictionary that does the inverse! (hint: iterate over \n",
    "# squares.items(), where squares is the name of the dict you made in the above challenge)\n",
    "# method 1\n",
    "squaresinverse = {}\n",
    "for key, value in squares.items():\n",
    "    if key < 6:\n",
    "        squaresinverse[value] = key\n",
    "\n",
    "\n",
    "# method 2\n",
    "squaresinverse = {value : key for key, value in squares.items()}\n",
    "\n",
    "print(squaresinverse)\n",
    "\n",
    "# 4) create a list of dictionaries, each with a key called name, \n",
    "# then use a list comprehension to map that list to the names themselves by indexing the dicts\n",
    "\n",
    "dict1 = {\"ellie\" : 1.65 , \"Joe\" : 1.80, \"Annabelle\" : 1.03, \"Jake\" : 0.80 }\n",
    "dict2 = {\"ellie\" : \"blond\" , \"Joe\" : \"brown\", \"Annabelle\" : \"dark brown\", }\n",
    "mylist = [dict1, dict2]\n",
    "# method 1 \n",
    "names = []\n",
    "for dictionary in mylist:\n",
    "    for key in dictionary:\n",
    "        names.append(key)\n",
    "#method 2 comprehension\n",
    "names = [key for dictionary in mylist for key in dictionary]\n",
    "\n",
    "print(names)\n",
    "\n",
    "#extension - merge the two dictionaries into 1 and if there is the same key in each, put those values into a list\n",
    "newdict = {}\n",
    "for i in range(len(mylist)):\n",
    "    for key in mylist[i]:\n",
    "        for j in range(i+1, len(mylist)):\n",
    "            if key in mylist[j]:\n",
    "                list_of_values = []\n",
    "                list_of_values.append(mylist[i][key])\n",
    "                list_of_values.append(mylist[j][key])\n",
    "                newdict[key] = list_of_values\n",
    "            else:\n",
    "                newdict[key] = mylist[i][key] \n",
    "                \n",
    "\n",
    "print(newdict)\n"
   ],
   "outputs": [
    {
     "output_type": "stream",
     "name": "stdout",
     "text": [
      "{1: 1, 2: 4, 3: 9, 4: 16, 5: 25, 6: 36, 7: 49, 8: 64, 9: 81, 10: 100, 11: 121, 12: 144, 13: 169, 14: 196, 15: 225}\n",
      "{1: 1, 4: 2, 9: 3, 16: 4, 25: 5, 36: 6, 49: 7, 64: 8, 81: 9, 100: 10, 121: 11, 144: 12, 169: 13, 196: 14, 225: 15}\n",
      "['ellie', 'Joe', 'Annabelle', 'Jake', 'ellie', 'Joe', 'Annabelle']\n",
      "{'ellie': [1.65, 'blond'], 'Joe': [1.8, 'brown'], 'Annabelle': [1.03, 'dark brown'], 'Jake': 0.8}\n"
     ]
    }
   ],
   "metadata": {}
  },
  {
   "cell_type": "code",
   "execution_count": null,
   "source": [],
   "outputs": [],
   "metadata": {}
  },
  {
   "cell_type": "code",
   "execution_count": 145,
   "source": [
    "# use the os module to create a nested list comprehension to list every file in the my_lib directory\n",
    "import os\n",
    "\n",
    "# print(os.listdir())\n",
    "# oslist = os.listdir(\"/Users/eleanorbrakoniecki/scratch/AICOREFOUNDATION/os_module_test_dir\")\n",
    "\n",
    "\n",
    "x = []\n",
    "for item in os.listdir(\"/Users/eleanorbrakoniecki/scratch/AICOREFOUNDATION\"):\n",
    "    print(item)\n",
    "#     if item is a directory\n",
    "#         for child in os.listdir(item):\n",
    "#             x.append(child)\n",
    " \n",
    "\n"
   ],
   "outputs": [
    {
     "output_type": "stream",
     "name": "stdout",
     "text": [
      ".DS_Store\n",
      "Advanced_python_practical.ipynb\n",
      "Loops_practicals.ipynb\n",
      "OOPquiz.ipynb\n",
      "OOP_practicals.ipynb\n",
      "README.md\n",
      "Import_challenge_practical\n",
      "os_module_test_dir\n",
      ".git\n"
     ]
    }
   ],
   "metadata": {}
  },
  {
   "cell_type": "markdown",
   "source": [
    "to start with, create a simple function which we will decorate that loops over the numbers 1 to 3 and prints them\n",
    "create a decorator that prints \"start\" and \"end\" at the start and end of a function call\n",
    "create a decorator to time how long a function takes to run and print the duration\n",
    "change your function so that it takes in an argument, which is the upper bound of the range which it iterates to\n",
    "create a decorator that takes in a word as an argument, and prints this word before running\n",
    "now make it take in a second argument word, which it prints after running the decorated function"
   ],
   "metadata": {}
  },
  {
   "cell_type": "code",
   "execution_count": 173,
   "source": [
    "# def loop_and_print(func)\n",
    "\n",
    "import time\n",
    "\n",
    "def loop_and_print(func):\n",
    "    def wrapper(*args):\n",
    "        start = time.time()   \n",
    "        print(f\"Start time is: {start}\")\n",
    "        print(args[1])\n",
    "        func(*args)\n",
    "        end = time.time()\n",
    "        print(f\"End time is: {end}\")\n",
    "        total_time = end - start\n",
    "        print(total_time)\n",
    "    return wrapper\n",
    "\n",
    "\n",
    "\n",
    "@loop_and_print\n",
    "def loopn(n, word=None):\n",
    "    r  = [i for i in range(1, n + 1)]\n",
    "\n",
    "loopn(5, \"Hello\")\n"
   ],
   "outputs": [
    {
     "output_type": "stream",
     "name": "stdout",
     "text": [
      "Start time is: 1633638705.415112\n",
      "Hello\n",
      "End time is: 1633638705.415675\n",
      "0.0005629062652587891\n"
     ]
    }
   ],
   "metadata": {}
  },
  {
   "cell_type": "code",
   "execution_count": null,
   "source": [],
   "outputs": [],
   "metadata": {}
  }
 ],
 "metadata": {
  "orig_nbformat": 4,
  "language_info": {
   "name": "python",
   "version": "3.9.5",
   "mimetype": "text/x-python",
   "codemirror_mode": {
    "name": "ipython",
    "version": 3
   },
   "pygments_lexer": "ipython3",
   "nbconvert_exporter": "python",
   "file_extension": ".py"
  },
  "kernelspec": {
   "name": "python3",
   "display_name": "Python 3.9.5 64-bit ('base': conda)"
  },
  "interpreter": {
   "hash": "a71d2412ae34490210b93e6016e866bfdc76bae0306f5a9106694ea876077cd7"
  }
 },
 "nbformat": 4,
 "nbformat_minor": 2
}